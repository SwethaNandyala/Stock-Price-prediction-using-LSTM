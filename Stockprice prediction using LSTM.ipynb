{
 "cells": [
  {
   "cell_type": "markdown",
   "metadata": {
    "id": "-B3ma9a4mR2R"
   },
   "source": [
    "#DJIA 30 Stock Time Series dataset\n",
    "The script used to acquire all of the following data can be found in this GitHub repository. This repository also contains the modeling codes and will be updated continually, so welcome starring or watching!\n",
    "\n",
    "Stock market data can be interesting to analyze and as a further incentive, strong predictive models can have large financial payoff. The amount of financial data on the web is seemingly endless. A large and well structured dataset on a wide array of companies can be hard to come by. Here provided a dataset with historical stock prices (last 12 years) for 29 of 30 DJIA companies (excluding 'V' because it does not have the whole 12 years data).\n",
    "\n",
    "      ['MMM', 'AXP', 'AAPL', 'BA', 'CAT', 'CVX', 'CSCO', 'KO', 'DIS', 'XOM', 'GE',\n",
    "\n",
    "      'GS', 'HD', 'IBM', 'INTC', 'JNJ', 'JPM', 'MCD', 'MRK', 'MSFT', 'NKE', 'PFE',\n",
    "\n",
    "      'PG', 'TRV', 'UTX', 'UNH', 'VZ', 'WMT', 'GOOGL', 'AMZN', 'AABA']\n",
    "\n",
    "####Content\n",
    "The data is presented in a couple of formats to suit different individual's needs or computational limitations.\n",
    "I have included files containing 13 years of stock data (in the all_stocks_2006-01-01_to_2018-01-01.csv and corresponding folder) and\n",
    "a smaller version of the dataset (all_stocks_2017-01-01_to_2018-01-01.csv) with only the past year's stock data for those wishing to use something more manageable in size.\n",
    "\n",
    "The folder individual_stocks_2006-01-01_to_2018-01-01 contains files of data for individual stocks, labelled by their stock ticker name.\n",
    "The all_stocks_2006-01-01_to_2018-01-01.csv and all_stocks_2017-01-01_to_2018-01-01.csv contain this same data, presented in merged .csv files.\n",
    "Depending on the intended use (graphing, modelling etc.) the user may prefer one of these given formats.\n",
    "\n",
    "All the files have the following columns:\n",
    "Date - in format: yy-mm-dd\n",
    "\n",
    "Open - price of the stock at market open (this is NYSE data so all in USD)\n",
    "\n",
    "High - Highest price reached in the day\n",
    "\n",
    "Low Close - Lowest price reached in the day\n",
    "\n",
    "Volume - Number of shares traded\n",
    "\n",
    "Name - the stock's ticker name"
   ]
  },
  {
   "cell_type": "markdown",
   "metadata": {
    "id": "lqtRYNUNmVfs"
   },
   "source": [
    "##Question 1\n",
    "####Import the libraries and extract the dataset from zipped file."
   ]
  },
  {
   "cell_type": "code",
   "execution_count": 1,
   "metadata": {
    "id": "FRuMJRZPmNgr"
   },
   "outputs": [],
   "source": [
    "import numpy as np\n",
    "import pandas as pd\n",
    "\n",
    "import matplotlib.pyplot as plt\n",
    "import seaborn as sns\n",
    "\n",
    "from sklearn.model_selection import train_test_split\n",
    "from sklearn.preprocessing import MinMaxScaler\n",
    "import tensorflow as tf\n",
    "from tensorflow.keras import Sequential\n",
    "from tensorflow.keras.layers import Dense,LSTM,BatchNormalization,Dropout\n",
    "\n",
    "from tensorflow.keras.activations import sigmoid,relu,linear,tanh\n",
    "\n",
    "from tensorflow.keras.losses import MeanAbsoluteError,MeanSquaredError\n",
    "from tensorflow.keras.optimizers import Adam,RMSprop\n",
    "\n",
    "from tensorflow.keras.callbacks import EarlyStopping,ModelCheckpoint,ReduceLROnPlateau"
   ]
  },
  {
   "cell_type": "markdown",
   "metadata": {
    "id": "xfvs81uhmWBa"
   },
   "source": [
    "##Question 2\n",
    "####Import the dataset - 'IBM_2006-01-01_to_2018-01-01.csv'"
   ]
  },
  {
   "cell_type": "code",
   "execution_count": 2,
   "metadata": {
    "id": "Pv2LRiFSmWNT"
   },
   "outputs": [],
   "source": [
    "root_folder = 'C:/Users/nswet/Documents/IK/Deeplearning_CV/DJIA_30_Stock_Time_Series/DJIA_30_Stock_Time_Series/'\n",
    "file = 'IBM_2006-01-01_to_2018-01-01.csv'\n",
    "\n",
    "file_path = root_folder + file"
   ]
  },
  {
   "cell_type": "markdown",
   "metadata": {
    "id": "-Z8yFSGMmWWM"
   },
   "source": [
    "##Question 3\n",
    "####Perform EDA on the datsaet to understand the data."
   ]
  },
  {
   "cell_type": "code",
   "execution_count": 3,
   "metadata": {
    "id": "XZqkozoBmWep"
   },
   "outputs": [
    {
     "data": {
      "text/html": [
       "<div>\n",
       "<style scoped>\n",
       "    .dataframe tbody tr th:only-of-type {\n",
       "        vertical-align: middle;\n",
       "    }\n",
       "\n",
       "    .dataframe tbody tr th {\n",
       "        vertical-align: top;\n",
       "    }\n",
       "\n",
       "    .dataframe thead th {\n",
       "        text-align: right;\n",
       "    }\n",
       "</style>\n",
       "<table border=\"1\" class=\"dataframe\">\n",
       "  <thead>\n",
       "    <tr style=\"text-align: right;\">\n",
       "      <th></th>\n",
       "      <th>Open</th>\n",
       "      <th>High</th>\n",
       "      <th>Low</th>\n",
       "      <th>Close</th>\n",
       "      <th>Volume</th>\n",
       "      <th>Name</th>\n",
       "    </tr>\n",
       "    <tr>\n",
       "      <th>Date</th>\n",
       "      <th></th>\n",
       "      <th></th>\n",
       "      <th></th>\n",
       "      <th></th>\n",
       "      <th></th>\n",
       "      <th></th>\n",
       "    </tr>\n",
       "  </thead>\n",
       "  <tbody>\n",
       "    <tr>\n",
       "      <th>2006-01-03</th>\n",
       "      <td>82.45</td>\n",
       "      <td>82.55</td>\n",
       "      <td>80.81</td>\n",
       "      <td>82.06</td>\n",
       "      <td>11715200</td>\n",
       "      <td>IBM</td>\n",
       "    </tr>\n",
       "    <tr>\n",
       "      <th>2006-01-04</th>\n",
       "      <td>82.20</td>\n",
       "      <td>82.50</td>\n",
       "      <td>81.33</td>\n",
       "      <td>81.95</td>\n",
       "      <td>9840600</td>\n",
       "      <td>IBM</td>\n",
       "    </tr>\n",
       "    <tr>\n",
       "      <th>2006-01-05</th>\n",
       "      <td>81.40</td>\n",
       "      <td>82.90</td>\n",
       "      <td>81.00</td>\n",
       "      <td>82.50</td>\n",
       "      <td>7213500</td>\n",
       "      <td>IBM</td>\n",
       "    </tr>\n",
       "    <tr>\n",
       "      <th>2006-01-06</th>\n",
       "      <td>83.95</td>\n",
       "      <td>85.03</td>\n",
       "      <td>83.41</td>\n",
       "      <td>84.95</td>\n",
       "      <td>8197400</td>\n",
       "      <td>IBM</td>\n",
       "    </tr>\n",
       "    <tr>\n",
       "      <th>2006-01-09</th>\n",
       "      <td>84.10</td>\n",
       "      <td>84.25</td>\n",
       "      <td>83.38</td>\n",
       "      <td>83.73</td>\n",
       "      <td>6858200</td>\n",
       "      <td>IBM</td>\n",
       "    </tr>\n",
       "  </tbody>\n",
       "</table>\n",
       "</div>"
      ],
      "text/plain": [
       "             Open   High    Low  Close    Volume Name\n",
       "Date                                                 \n",
       "2006-01-03  82.45  82.55  80.81  82.06  11715200  IBM\n",
       "2006-01-04  82.20  82.50  81.33  81.95   9840600  IBM\n",
       "2006-01-05  81.40  82.90  81.00  82.50   7213500  IBM\n",
       "2006-01-06  83.95  85.03  83.41  84.95   8197400  IBM\n",
       "2006-01-09  84.10  84.25  83.38  83.73   6858200  IBM"
      ]
     },
     "execution_count": 3,
     "metadata": {},
     "output_type": "execute_result"
    }
   ],
   "source": [
    "data_df = pd.read_csv(file_path,index_col='Date',parse_dates=['Date'])\n",
    "data_df.head()"
   ]
  },
  {
   "cell_type": "code",
   "execution_count": 4,
   "metadata": {},
   "outputs": [
    {
     "data": {
      "text/plain": [
       "Open      1\n",
       "High      0\n",
       "Low       1\n",
       "Close     0\n",
       "Volume    0\n",
       "Name      0\n",
       "dtype: int64"
      ]
     },
     "execution_count": 4,
     "metadata": {},
     "output_type": "execute_result"
    }
   ],
   "source": [
    "data_df.isnull().sum()"
   ]
  },
  {
   "cell_type": "code",
   "execution_count": 5,
   "metadata": {},
   "outputs": [
    {
     "data": {
      "text/html": [
       "<div>\n",
       "<style scoped>\n",
       "    .dataframe tbody tr th:only-of-type {\n",
       "        vertical-align: middle;\n",
       "    }\n",
       "\n",
       "    .dataframe tbody tr th {\n",
       "        vertical-align: top;\n",
       "    }\n",
       "\n",
       "    .dataframe thead th {\n",
       "        text-align: right;\n",
       "    }\n",
       "</style>\n",
       "<table border=\"1\" class=\"dataframe\">\n",
       "  <thead>\n",
       "    <tr style=\"text-align: right;\">\n",
       "      <th></th>\n",
       "      <th>Open</th>\n",
       "      <th>High</th>\n",
       "      <th>Low</th>\n",
       "      <th>Close</th>\n",
       "      <th>Volume</th>\n",
       "      <th>Name</th>\n",
       "    </tr>\n",
       "    <tr>\n",
       "      <th>Date</th>\n",
       "      <th></th>\n",
       "      <th></th>\n",
       "      <th></th>\n",
       "      <th></th>\n",
       "      <th></th>\n",
       "      <th></th>\n",
       "    </tr>\n",
       "  </thead>\n",
       "  <tbody>\n",
       "    <tr>\n",
       "      <th>2017-07-31</th>\n",
       "      <td>NaN</td>\n",
       "      <td>144.93</td>\n",
       "      <td>NaN</td>\n",
       "      <td>144.67</td>\n",
       "      <td>4355718</td>\n",
       "      <td>IBM</td>\n",
       "    </tr>\n",
       "  </tbody>\n",
       "</table>\n",
       "</div>"
      ],
      "text/plain": [
       "            Open    High  Low   Close   Volume Name\n",
       "Date                                               \n",
       "2017-07-31   NaN  144.93  NaN  144.67  4355718  IBM"
      ]
     },
     "execution_count": 5,
     "metadata": {},
     "output_type": "execute_result"
    }
   ],
   "source": [
    "data_df[data_df[\"Open\"].isnull()==True]"
   ]
  },
  {
   "cell_type": "code",
   "execution_count": 6,
   "metadata": {},
   "outputs": [
    {
     "data": {
      "image/png": "[encoded data removed]",
      "text/plain": [
       "<Figure size 432x288 with 1 Axes>"
      ]
     },
     "metadata": {
      "needs_background": "light"
     },
     "output_type": "display_data"
    }
   ],
   "source": [
    "plt.plot(data_df[\"Open\"])\n",
    "plt.show()"
   ]
  },
  {
   "cell_type": "code",
   "execution_count": 7,
   "metadata": {},
   "outputs": [
    {
     "name": "stderr",
     "output_type": "stream",
     "text": [
      "C:\\Users\\nswet\\AppData\\Local\\Temp\\ipykernel_17392\\2915824181.py:1: FutureWarning: Indexing a DataFrame with a datetimelike index using a single string to slice the rows, like `frame[string]`, is deprecated and will be removed in a future version. Use `frame.loc[string]` instead.\n",
      "  data_df['2016']\n"
     ]
    },
    {
     "data": {
      "text/html": [
       "<div>\n",
       "<style scoped>\n",
       "    .dataframe tbody tr th:only-of-type {\n",
       "        vertical-align: middle;\n",
       "    }\n",
       "\n",
       "    .dataframe tbody tr th {\n",
       "        vertical-align: top;\n",
       "    }\n",
       "\n",
       "    .dataframe thead th {\n",
       "        text-align: right;\n",
       "    }\n",
       "</style>\n",
       "<table border=\"1\" class=\"dataframe\">\n",
       "  <thead>\n",
       "    <tr style=\"text-align: right;\">\n",
       "      <th></th>\n",
       "      <th>Open</th>\n",
       "      <th>High</th>\n",
       "      <th>Low</th>\n",
       "      <th>Close</th>\n",
       "      <th>Volume</th>\n",
       "      <th>Name</th>\n",
       "    </tr>\n",
       "    <tr>\n",
       "      <th>Date</th>\n",
       "      <th></th>\n",
       "      <th></th>\n",
       "      <th></th>\n",
       "      <th></th>\n",
       "      <th></th>\n",
       "      <th></th>\n",
       "    </tr>\n",
       "  </thead>\n",
       "  <tbody>\n",
       "    <tr>\n",
       "      <th>2016-01-04</th>\n",
       "      <td>135.60</td>\n",
       "      <td>135.97</td>\n",
       "      <td>134.24</td>\n",
       "      <td>135.95</td>\n",
       "      <td>5208900</td>\n",
       "      <td>IBM</td>\n",
       "    </tr>\n",
       "    <tr>\n",
       "      <th>2016-01-05</th>\n",
       "      <td>136.76</td>\n",
       "      <td>136.89</td>\n",
       "      <td>134.85</td>\n",
       "      <td>135.85</td>\n",
       "      <td>3924793</td>\n",
       "      <td>IBM</td>\n",
       "    </tr>\n",
       "    <tr>\n",
       "      <th>2016-01-06</th>\n",
       "      <td>134.38</td>\n",
       "      <td>135.58</td>\n",
       "      <td>133.62</td>\n",
       "      <td>135.17</td>\n",
       "      <td>4310939</td>\n",
       "      <td>IBM</td>\n",
       "    </tr>\n",
       "    <tr>\n",
       "      <th>2016-01-07</th>\n",
       "      <td>133.70</td>\n",
       "      <td>135.02</td>\n",
       "      <td>132.43</td>\n",
       "      <td>132.86</td>\n",
       "      <td>7025760</td>\n",
       "      <td>IBM</td>\n",
       "    </tr>\n",
       "    <tr>\n",
       "      <th>2016-01-08</th>\n",
       "      <td>133.18</td>\n",
       "      <td>133.82</td>\n",
       "      <td>131.32</td>\n",
       "      <td>131.63</td>\n",
       "      <td>4762706</td>\n",
       "      <td>IBM</td>\n",
       "    </tr>\n",
       "    <tr>\n",
       "      <th>...</th>\n",
       "      <td>...</td>\n",
       "      <td>...</td>\n",
       "      <td>...</td>\n",
       "      <td>...</td>\n",
       "      <td>...</td>\n",
       "      <td>...</td>\n",
       "    </tr>\n",
       "    <tr>\n",
       "      <th>2016-12-23</th>\n",
       "      <td>167.00</td>\n",
       "      <td>167.49</td>\n",
       "      <td>166.45</td>\n",
       "      <td>166.71</td>\n",
       "      <td>1701228</td>\n",
       "      <td>IBM</td>\n",
       "    </tr>\n",
       "    <tr>\n",
       "      <th>2016-12-27</th>\n",
       "      <td>166.98</td>\n",
       "      <td>167.98</td>\n",
       "      <td>166.85</td>\n",
       "      <td>167.14</td>\n",
       "      <td>1397455</td>\n",
       "      <td>IBM</td>\n",
       "    </tr>\n",
       "    <tr>\n",
       "      <th>2016-12-28</th>\n",
       "      <td>167.29</td>\n",
       "      <td>167.74</td>\n",
       "      <td>166.00</td>\n",
       "      <td>166.19</td>\n",
       "      <td>1757500</td>\n",
       "      <td>IBM</td>\n",
       "    </tr>\n",
       "    <tr>\n",
       "      <th>2016-12-29</th>\n",
       "      <td>166.02</td>\n",
       "      <td>166.99</td>\n",
       "      <td>166.00</td>\n",
       "      <td>166.60</td>\n",
       "      <td>1663542</td>\n",
       "      <td>IBM</td>\n",
       "    </tr>\n",
       "    <tr>\n",
       "      <th>2016-12-30</th>\n",
       "      <td>166.44</td>\n",
       "      <td>166.70</td>\n",
       "      <td>165.50</td>\n",
       "      <td>165.99</td>\n",
       "      <td>2952825</td>\n",
       "      <td>IBM</td>\n",
       "    </tr>\n",
       "  </tbody>\n",
       "</table>\n",
       "<p>252 rows × 6 columns</p>\n",
       "</div>"
      ],
      "text/plain": [
       "              Open    High     Low   Close   Volume Name\n",
       "Date                                                    \n",
       "2016-01-04  135.60  135.97  134.24  135.95  5208900  IBM\n",
       "2016-01-05  136.76  136.89  134.85  135.85  3924793  IBM\n",
       "2016-01-06  134.38  135.58  133.62  135.17  4310939  IBM\n",
       "2016-01-07  133.70  135.02  132.43  132.86  7025760  IBM\n",
       "2016-01-08  133.18  133.82  131.32  131.63  4762706  IBM\n",
       "...            ...     ...     ...     ...      ...  ...\n",
       "2016-12-23  167.00  167.49  166.45  166.71  1701228  IBM\n",
       "2016-12-27  166.98  167.98  166.85  167.14  1397455  IBM\n",
       "2016-12-28  167.29  167.74  166.00  166.19  1757500  IBM\n",
       "2016-12-29  166.02  166.99  166.00  166.60  1663542  IBM\n",
       "2016-12-30  166.44  166.70  165.50  165.99  2952825  IBM\n",
       "\n",
       "[252 rows x 6 columns]"
      ]
     },
     "execution_count": 7,
     "metadata": {},
     "output_type": "execute_result"
    }
   ],
   "source": [
    "data_df['2016']"
   ]
  },
  {
   "cell_type": "markdown",
   "metadata": {},
   "source": [
    "## Treat missng values using forward fill"
   ]
  },
  {
   "cell_type": "code",
   "execution_count": 8,
   "metadata": {},
   "outputs": [],
   "source": [
    "data_df[\"Forward_Fill_Open\"] = data_df[\"Open\"].ffill()"
   ]
  },
  {
   "cell_type": "code",
   "execution_count": 9,
   "metadata": {},
   "outputs": [
    {
     "data": {
      "text/plain": [
       "0"
      ]
     },
     "execution_count": 9,
     "metadata": {},
     "output_type": "execute_result"
    }
   ],
   "source": [
    "data_df[\"Forward_Fill_Open\"].isnull().sum()"
   ]
  },
  {
   "cell_type": "code",
   "execution_count": 10,
   "metadata": {},
   "outputs": [],
   "source": [
    "data_df[\"Forward_Fill_Low\"] = data_df[\"Low\"].ffill()"
   ]
  },
  {
   "cell_type": "code",
   "execution_count": 11,
   "metadata": {},
   "outputs": [
    {
     "data": {
      "text/html": [
       "<div>\n",
       "<style scoped>\n",
       "    .dataframe tbody tr th:only-of-type {\n",
       "        vertical-align: middle;\n",
       "    }\n",
       "\n",
       "    .dataframe tbody tr th {\n",
       "        vertical-align: top;\n",
       "    }\n",
       "\n",
       "    .dataframe thead th {\n",
       "        text-align: right;\n",
       "    }\n",
       "</style>\n",
       "<table border=\"1\" class=\"dataframe\">\n",
       "  <thead>\n",
       "    <tr style=\"text-align: right;\">\n",
       "      <th></th>\n",
       "      <th>Open</th>\n",
       "      <th>High</th>\n",
       "      <th>Low</th>\n",
       "      <th>Close</th>\n",
       "      <th>Volume</th>\n",
       "      <th>Name</th>\n",
       "      <th>Forward_Fill_Open</th>\n",
       "      <th>Forward_Fill_Low</th>\n",
       "    </tr>\n",
       "    <tr>\n",
       "      <th>Date</th>\n",
       "      <th></th>\n",
       "      <th></th>\n",
       "      <th></th>\n",
       "      <th></th>\n",
       "      <th></th>\n",
       "      <th></th>\n",
       "      <th></th>\n",
       "      <th></th>\n",
       "    </tr>\n",
       "  </thead>\n",
       "  <tbody>\n",
       "    <tr>\n",
       "      <th>2006-01-03</th>\n",
       "      <td>82.45</td>\n",
       "      <td>82.55</td>\n",
       "      <td>80.81</td>\n",
       "      <td>82.06</td>\n",
       "      <td>11715200</td>\n",
       "      <td>IBM</td>\n",
       "      <td>82.45</td>\n",
       "      <td>80.81</td>\n",
       "    </tr>\n",
       "    <tr>\n",
       "      <th>2006-01-04</th>\n",
       "      <td>82.20</td>\n",
       "      <td>82.50</td>\n",
       "      <td>81.33</td>\n",
       "      <td>81.95</td>\n",
       "      <td>9840600</td>\n",
       "      <td>IBM</td>\n",
       "      <td>82.20</td>\n",
       "      <td>81.33</td>\n",
       "    </tr>\n",
       "    <tr>\n",
       "      <th>2006-01-05</th>\n",
       "      <td>81.40</td>\n",
       "      <td>82.90</td>\n",
       "      <td>81.00</td>\n",
       "      <td>82.50</td>\n",
       "      <td>7213500</td>\n",
       "      <td>IBM</td>\n",
       "      <td>81.40</td>\n",
       "      <td>81.00</td>\n",
       "    </tr>\n",
       "    <tr>\n",
       "      <th>2006-01-06</th>\n",
       "      <td>83.95</td>\n",
       "      <td>85.03</td>\n",
       "      <td>83.41</td>\n",
       "      <td>84.95</td>\n",
       "      <td>8197400</td>\n",
       "      <td>IBM</td>\n",
       "      <td>83.95</td>\n",
       "      <td>83.41</td>\n",
       "    </tr>\n",
       "    <tr>\n",
       "      <th>2006-01-09</th>\n",
       "      <td>84.10</td>\n",
       "      <td>84.25</td>\n",
       "      <td>83.38</td>\n",
       "      <td>83.73</td>\n",
       "      <td>6858200</td>\n",
       "      <td>IBM</td>\n",
       "      <td>84.10</td>\n",
       "      <td>83.38</td>\n",
       "    </tr>\n",
       "  </tbody>\n",
       "</table>\n",
       "</div>"
      ],
      "text/plain": [
       "             Open   High    Low  Close    Volume Name  Forward_Fill_Open  \\\n",
       "Date                                                                       \n",
       "2006-01-03  82.45  82.55  80.81  82.06  11715200  IBM              82.45   \n",
       "2006-01-04  82.20  82.50  81.33  81.95   9840600  IBM              82.20   \n",
       "2006-01-05  81.40  82.90  81.00  82.50   7213500  IBM              81.40   \n",
       "2006-01-06  83.95  85.03  83.41  84.95   8197400  IBM              83.95   \n",
       "2006-01-09  84.10  84.25  83.38  83.73   6858200  IBM              84.10   \n",
       "\n",
       "            Forward_Fill_Low  \n",
       "Date                          \n",
       "2006-01-03             80.81  \n",
       "2006-01-04             81.33  \n",
       "2006-01-05             81.00  \n",
       "2006-01-06             83.41  \n",
       "2006-01-09             83.38  "
      ]
     },
     "execution_count": 11,
     "metadata": {},
     "output_type": "execute_result"
    }
   ],
   "source": [
    "data_df.head()"
   ]
  },
  {
   "cell_type": "code",
   "execution_count": 12,
   "metadata": {},
   "outputs": [],
   "source": [
    "minmax = MinMaxScaler()\n",
    "data_df_new = data_df[\"Forward_Fill_Open\"]\n",
    "\n",
    "data_scaled = minmax.fit_transform(data_df_new.values.reshape(-1,1))"
   ]
  },
  {
   "cell_type": "markdown",
   "metadata": {
    "id": "ChPE5IypmWmr"
   },
   "source": [
    "##Question 4\n",
    "####Extract the information to train the model from the dataset."
   ]
  },
  {
   "cell_type": "code",
   "execution_count": 13,
   "metadata": {
    "id": "0uoyXw7ymWvj"
   },
   "outputs": [],
   "source": [
    "def create_dataset(data,step_back):\n",
    "    \n",
    "    X = []\n",
    "    y = []\n",
    "    \n",
    "    for i in range(len(data)-step_back):\n",
    "        \n",
    "        subset = data[i:i+step_back,:]\n",
    "        X.append(subset)\n",
    "        y.append(data[i+step_back])\n",
    "    return np.array(X),np.array(y)"
   ]
  },
  {
   "cell_type": "markdown",
   "metadata": {},
   "source": [
    "temp_arr = np.array([[1,2,3,4,5,6,7,8,9,10],[11,22,33,44,55,66,77,88,99,100]])\n",
    "temp_arr = temp_arr.T\n",
    "dummy_df = pd.DataFrame(temp_arr,columns=[\"A\",\"B\"])\n",
    "dummy_df.head()\n",
    "x,y = create_dataset(dummy_df,5)"
   ]
  },
  {
   "cell_type": "code",
   "execution_count": 14,
   "metadata": {},
   "outputs": [],
   "source": [
    "## train test split\n",
    "\n",
    "train_size = int(len(data_scaled)*0.70)\n",
    "test_size = int(len(data_scaled) - train_size)"
   ]
  },
  {
   "cell_type": "code",
   "execution_count": 15,
   "metadata": {},
   "outputs": [
    {
     "name": "stdout",
     "output_type": "stream",
     "text": [
      "Train data size 2114\n",
      "Test data size 906\n",
      "Original Scaled data size 3020\n"
     ]
    }
   ],
   "source": [
    "print(\"Train data size\",train_size)\n",
    "print(\"Test data size\",test_size)\n",
    "print(\"Original Scaled data size\",len(data_scaled))"
   ]
  },
  {
   "cell_type": "code",
   "execution_count": 16,
   "metadata": {},
   "outputs": [],
   "source": [
    "train_data = data_scaled[0:train_size,:]\n",
    "\n",
    "test_data = data_scaled[train_size:,:]"
   ]
  },
  {
   "cell_type": "code",
   "execution_count": 17,
   "metadata": {},
   "outputs": [
    {
     "name": "stdout",
     "output_type": "stream",
     "text": [
      "Train data size 2114\n",
      "Test data size 906\n"
     ]
    }
   ],
   "source": [
    "print(\"Train data size\",len(train_data))\n",
    "print(\"Test data size\",len(test_data))"
   ]
  },
  {
   "cell_type": "code",
   "execution_count": 18,
   "metadata": {
    "id": "IV6T10IimXAU"
   },
   "outputs": [],
   "source": [
    "#Solution 5(your code here)\n",
    "step_back =10\n",
    "X_train, y_train = create_dataset(train_data,10)\n",
    "\n",
    "X_test, y_test = create_dataset(test_data,10)"
   ]
  },
  {
   "cell_type": "code",
   "execution_count": 19,
   "metadata": {},
   "outputs": [],
   "source": [
    "X_train = np.reshape(X_train, (X_train.shape[0],X_train.shape[1],1))\n",
    "\n",
    "X_test = np.reshape(X_test, (X_test.shape[0],X_test.shape[1],1))"
   ]
  },
  {
   "cell_type": "code",
   "execution_count": 20,
   "metadata": {},
   "outputs": [],
   "source": [
    "lstm_model = Sequential()\n",
    "\n",
    "lstm_model.add(LSTM(units=60,input_shape=(10, 1)))\n",
    "\n",
    "lstm_model.add(Dense(1))\n",
    "\n",
    "lstm_model.compile(loss='mean_squared_error', optimizer='adam')"
   ]
  },
  {
   "cell_type": "code",
   "execution_count": 21,
   "metadata": {},
   "outputs": [
    {
     "name": "stdout",
     "output_type": "stream",
     "text": [
      "Model: \"sequential\"\n",
      "_________________________________________________________________\n",
      " Layer (type)                Output Shape              Param #   \n",
      "=================================================================\n",
      " lstm (LSTM)                 (None, 60)                14880     \n",
      "                                                                 \n",
      " dense (Dense)               (None, 1)                 61        \n",
      "                                                                 \n",
      "=================================================================\n",
      "Total params: 14941 (58.36 KB)\n",
      "Trainable params: 14941 (58.36 KB)\n",
      "Non-trainable params: 0 (0.00 Byte)\n",
      "_________________________________________________________________\n"
     ]
    }
   ],
   "source": [
    "lstm_model.summary()"
   ]
  },
  {
   "cell_type": "code",
   "execution_count": 22,
   "metadata": {},
   "outputs": [
    {
     "name": "stdout",
     "output_type": "stream",
     "text": [
      "Epoch 1/20\n",
      "2104/2104 - 7s - loss: 0.0021 - 7s/epoch - 3ms/step\n",
      "Epoch 2/20\n",
      "2104/2104 - 6s - loss: 6.6665e-04 - 6s/epoch - 3ms/step\n",
      "Epoch 3/20\n",
      "2104/2104 - 7s - loss: 4.9405e-04 - 7s/epoch - 3ms/step\n",
      "Epoch 4/20\n",
      "2104/2104 - 6s - loss: 3.3685e-04 - 6s/epoch - 3ms/step\n",
      "Epoch 5/20\n",
      "2104/2104 - 6s - loss: 3.0783e-04 - 6s/epoch - 3ms/step\n",
      "Epoch 6/20\n",
      "2104/2104 - 6s - loss: 2.6707e-04 - 6s/epoch - 3ms/step\n",
      "Epoch 7/20\n",
      "2104/2104 - 6s - loss: 2.6192e-04 - 6s/epoch - 3ms/step\n",
      "Epoch 8/20\n",
      "2104/2104 - 6s - loss: 2.7007e-04 - 6s/epoch - 3ms/step\n",
      "Epoch 9/20\n",
      "2104/2104 - 6s - loss: 2.4730e-04 - 6s/epoch - 3ms/step\n",
      "Epoch 10/20\n",
      "2104/2104 - 6s - loss: 2.4658e-04 - 6s/epoch - 3ms/step\n",
      "Epoch 11/20\n",
      "2104/2104 - 6s - loss: 2.3805e-04 - 6s/epoch - 3ms/step\n",
      "Epoch 12/20\n",
      "2104/2104 - 6s - loss: 2.3735e-04 - 6s/epoch - 3ms/step\n",
      "Epoch 13/20\n",
      "2104/2104 - 6s - loss: 2.3175e-04 - 6s/epoch - 3ms/step\n",
      "Epoch 14/20\n",
      "2104/2104 - 6s - loss: 2.2943e-04 - 6s/epoch - 3ms/step\n",
      "Epoch 15/20\n",
      "2104/2104 - 6s - loss: 2.2690e-04 - 6s/epoch - 3ms/step\n",
      "Epoch 16/20\n",
      "2104/2104 - 6s - loss: 2.2127e-04 - 6s/epoch - 3ms/step\n",
      "Epoch 17/20\n",
      "2104/2104 - 6s - loss: 2.2722e-04 - 6s/epoch - 3ms/step\n",
      "Epoch 18/20\n",
      "2104/2104 - 7s - loss: 2.2977e-04 - 7s/epoch - 3ms/step\n",
      "Epoch 19/20\n",
      "2104/2104 - 6s - loss: 2.1881e-04 - 6s/epoch - 3ms/step\n",
      "Epoch 20/20\n",
      "2104/2104 - 6s - loss: 2.2448e-04 - 6s/epoch - 3ms/step\n"
     ]
    },
    {
     "data": {
      "text/plain": [
       "<keras.src.callbacks.History at 0x2c5fc38e760>"
      ]
     },
     "execution_count": 22,
     "metadata": {},
     "output_type": "execute_result"
    }
   ],
   "source": [
    "lstm_model.fit(X_train, y_train, epochs=20, batch_size=1, verbose=2)"
   ]
  },
  {
   "cell_type": "code",
   "execution_count": 23,
   "metadata": {},
   "outputs": [
    {
     "name": "stdout",
     "output_type": "stream",
     "text": [
      "66/66 [==============================] - 0s 2ms/step\n",
      "28/28 [==============================] - 0s 2ms/step\n",
      "Train Score: 1.82 RMSE\n",
      "Test Score: 1.84 RMSE\n"
     ]
    }
   ],
   "source": [
    "import math\n",
    "from sklearn.metrics import mean_squared_error, mean_absolute_error\n",
    "\n",
    "trainPredict = lstm_model.predict(X_train)\n",
    "testPredict = lstm_model.predict(X_test)\n",
    "# invert predictions\n",
    "trainPredict_inv = minmax.inverse_transform(trainPredict)\n",
    "trainY = minmax.inverse_transform(y_train)\n",
    "\n",
    "# invert predictions\n",
    "testPredict_inv = minmax.inverse_transform(testPredict)\n",
    "testY = minmax.inverse_transform(y_test)\n",
    "\n",
    "# calculate root mean squared error \n",
    "trainScore = math.sqrt(mean_squared_error(trainY[:,0], trainPredict_inv[:,0]))\n",
    "print('Train Score: %.2f RMSE' % (trainScore))\n",
    "\n",
    "# calculate root mean squared error \n",
    "testScore = math.sqrt(mean_squared_error(testY[:,0], testPredict_inv[:,0]))\n",
    "print('Test Score: %.2f RMSE' % (testScore))"
   ]
  },
  {
   "cell_type": "code",
   "execution_count": 27,
   "metadata": {},
   "outputs": [
    {
     "name": "stdout",
     "output_type": "stream",
     "text": [
      "Y_train_pred length 2104\n",
      "Y_test_pred length 896\n"
     ]
    }
   ],
   "source": [
    "print(\"Y_train_pred length\",len(trainPredict_inv))\n",
    "print(\"Y_test_pred length\",len(testPredict_inv))"
   ]
  },
  {
   "cell_type": "code",
   "execution_count": 59,
   "metadata": {},
   "outputs": [
    {
     "data": {
      "image/png": "[encoded data removed]",
      "text/plain": [
       "<Figure size 1080x576 with 1 Axes>"
      ]
     },
     "metadata": {
      "needs_background": "light"
     },
     "output_type": "display_data"
    }
   ],
   "source": [
    "# shift train predictions for plotting\n",
    "trainPredictPlot = np.empty_like(data_scaled)\n",
    "trainPredictPlot[:, :] = np.nan\n",
    "trainPredictPlot[step_back:len(trainPredict_inv)+step_back, :] = trainPredict_inv\n",
    "# shift test predictions for plotting\n",
    "testPredictPlot = np.empty_like(data_scaled)\n",
    "testPredictPlot[:, :] = np.nan\n",
    "testPredictPlot[len(trainPredict_inv)+step_back+step_back:, :] = testPredict_inv\n",
    "# plot baseline and predictions\n",
    "figure = plt.figure(figsize=(15,8))\n",
    "plt.plot(minmax.inverse_transform(data_scaled))\n",
    "plt.plot(trainPredictPlot)\n",
    "plt.plot(testPredictPlot)\n",
    "plt.show()"
   ]
  }
 ],
 "metadata": {
  "colab": {
   "provenance": []
  },
  "kernelspec": {
   "display_name": "Python 3 (ipykernel)",
   "language": "python",
   "name": "python3"
  },
  "language_info": {
   "codemirror_mode": {
    "name": "ipython",
    "version": 3
   },
   "file_extension": ".py",
   "mimetype": "text/x-python",
   "name": "python",
   "nbconvert_exporter": "python",
   "pygments_lexer": "ipython3",
   "version": "3.9.12"
  }
 },
 "nbformat": 4,
 "nbformat_minor": 1
}
